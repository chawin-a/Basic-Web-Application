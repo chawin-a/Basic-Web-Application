{
 "cells": [
  {
   "cell_type": "markdown",
   "metadata": {},
   "source": [
    "# Basic Web Application\n",
    "## Calculator"
   ]
  },
  {
   "cell_type": "markdown",
   "metadata": {},
   "source": [
    "### IP Address \n",
    "IP Address คือ การระบุที่ตั้งของคอมพิวเตอร์เซิพเวอร์ แต่เพื่อความง่ายของการเข้าถึง จึงมีระบบ Domain name system(DNS) ขึ้นมาเพื่อให้สามารถไปยังเครื่องเชิร์ฟเวอร์และเครื่องได้ ผ่านการเรียกชื่อ เช่น www.google.com มี IP Address เป็น [216.58.196.14], [172.217.31.68]\n",
    "\n",
    "### Port\n",
    "พอร์ต (Port) เปรียบเสมืองช่องทางการติดต่อกันระหว่าง Client กับ Server โดยที่ Server จะเป็นคนเปิดพอร์ต ซึ่งพอร์ตแต่ละพอร์ตของ Server นั้นจะเชื่อมต่อไปที่ Application ที่แตกต่างกัน เช่น <br>\n",
    "* 80 สำหรับ HTTP \n",
    "* 443 สำหรับ HTTPS \n",
    "* 25 สำหรับ Simple Mail\n",
    "* 8000 สำหรับ My Web Application\n",
    "\n",
    " \n",
    "for more information: https://www.webopedia.com/quick_ref/portnumbers.asp"
   ]
  },
  {
   "cell_type": "code",
   "execution_count": 1,
   "metadata": {},
   "outputs": [],
   "source": [
    "from http.server import HTTPServer, BaseHTTPRequestHandler\n",
    "import json\n",
    "from cgi import FieldStorage\n",
    "\n",
    "IP_ADDRESS = 'localhost'\n",
    "PORT = 8000"
   ]
  },
  {
   "cell_type": "markdown",
   "metadata": {},
   "source": [
    "### HTTP Methods\n",
    "HTTP Methods คือ Function ที่ตกลงกัน Server และ Client โดยแต่ละ Function จะมีหน้าที่อะไรและกำหนด Parameter เป็นอะไร <br>\n",
    "ซึ่ง Methods หลักที่คนนิยมใช้คือ\n",
    "* GET คือ Client Request ไปยัง Server เพื่อขอค่าจากตัวแปรที่ต้องการแสดงผลบนหน้าเว็บไซต์\n",
    "* POST คือ Client ทำการส่งข้อมูลที่ผู้ใช้งานกรอกลงไปบนหน้าเว็บแล้วส่งไปยัง Server เพื่อใช้ในการประมวลผล \n",
    "* for more information: https://www.restapitutorial.com/lessons/httpmethods.html\n",
    "\n",
    "### Response number mean:\n",
    "* 200 OK\n",
    "* 404 Not Found\n",
    "* 502 Bad Gateway\n",
    "* for more information: https://developer.mozilla.org/en-US/docs/Web/HTTP/Status"
   ]
  },
  {
   "cell_type": "code",
   "execution_count": 2,
   "metadata": {},
   "outputs": [],
   "source": [
    "class SimpleHTTPRequestHandler(BaseHTTPRequestHandler):\n",
    "\n",
    "    def do_GET(self):\n",
    "        # Header\n",
    "        self.send_response(200)\n",
    "        self.send_header('Content-type', 'text/html')\n",
    "        self.end_headers()\n",
    "        \n",
    "        # Render\n",
    "        f = open('index.html', 'rb')\n",
    "        self.wfile.write(f.read())\n",
    "        f.close()\n",
    "    \n",
    "    def do_POST(self):\n",
    "        # Input\n",
    "        form = FieldStorage(fp=self.rfile, \n",
    "                            headers=self.headers,\n",
    "                            environ={\n",
    "                                'REQUEST_METHOD':'POST',\n",
    "                                'CONTENT_TYPE':self.headers['Content-Type']\n",
    "                            })\n",
    "        \n",
    "        # Header\n",
    "        self.send_response(200)\n",
    "        self.end_headers()\n",
    "\n",
    "        # Process\n",
    "        result = int(form['A'].value) + int(form['B'].value)\n",
    "        \n",
    "        # Render\n",
    "        response = ('Result = ' + str(result)).encode('utf8')\n",
    "        self.wfile.write(response)"
   ]
  },
  {
   "cell_type": "code",
   "execution_count": null,
   "metadata": {},
   "outputs": [
    {
     "name": "stdout",
     "output_type": "stream",
     "text": [
      "Server is started on localhost port 8000\n"
     ]
    },
    {
     "name": "stderr",
     "output_type": "stream",
     "text": [
      "127.0.0.1 - - [07/Jan/2020 09:38:45] \"GET / HTTP/1.1\" 200 -\n",
      "127.0.0.1 - - [07/Jan/2020 09:38:45] \"GET /favicon.ico HTTP/1.1\" 200 -\n"
     ]
    }
   ],
   "source": [
    "try:\n",
    "    httpd = HTTPServer((IP_ADDRESS, PORT), SimpleHTTPRequestHandler)\n",
    "    print('Server is started on %s port %d' % (IP_ADDRESS, PORT))\n",
    "    httpd.serve_forever()\n",
    "except KeyboardInterrupt:\n",
    "    print('Server is closed.')\n",
    "    httpd.shutdown()"
   ]
  },
  {
   "cell_type": "markdown",
   "metadata": {},
   "source": [
    "### โดยสรุปองค์ประกอบหลักของการสร้างเว็บไซต์มี 2 ส่วน\n",
    "* Front End หรือ การสร้างส่วนแสดงผลลัพธ์ที่ได้จากส่วนของ Back End ที่ส่งมาให้แสดงโดยที่ไม่สนว่าสิ่งที่ส่งมานั้นคำนวณอย่างไร \n",
    "* Back End หรือ การสร้างส่วนประมวลผลหลักที่ได้ข้อมูลมาจาก Front End และนำมาจัดเก็บลงใน Database\n",
    "\n",
    "โดยทั้งสองส่วนสามารถเขียนเป็นไฟล์แยกการทำงานได้ <br>\n",
    "เช่น <br>\n",
    "* Front End หรือ index.html\n",
    "* Back End หรือ server.py"
   ]
  },
  {
   "cell_type": "code",
   "execution_count": null,
   "metadata": {},
   "outputs": [],
   "source": []
  }
 ],
 "metadata": {
  "kernelspec": {
   "display_name": "Python 3",
   "language": "python",
   "name": "python3"
  },
  "language_info": {
   "codemirror_mode": {
    "name": "ipython",
    "version": 3
   },
   "file_extension": ".py",
   "mimetype": "text/x-python",
   "name": "python",
   "nbconvert_exporter": "python",
   "pygments_lexer": "ipython3",
   "version": "3.7.4"
  }
 },
 "nbformat": 4,
 "nbformat_minor": 2
}
