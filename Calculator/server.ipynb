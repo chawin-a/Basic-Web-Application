{
 "cells": [
  {
   "cell_type": "code",
   "execution_count": null,
   "metadata": {},
   "outputs": [],
   "source": [
    "from http.server import HTTPServer, BaseHTTPRequestHandler\n",
    "import json\n",
    "from cgi import FieldStorage\n",
    "\n",
    "IP_ADDRESS = 'localhost'\n",
    "PORT = 8000"
   ]
  },
  {
   "cell_type": "code",
   "execution_count": null,
   "metadata": {},
   "outputs": [],
   "source": [
    "class SimpleHTTPRequestHandler(BaseHTTPRequestHandler):\n",
    "\n",
    "    def do_GET(self):\n",
    "        # Header\n",
    "        self.send_response(200)\n",
    "        self.send_header('Content-type', 'text/html')\n",
    "        self.end_headers()\n",
    "        \n",
    "        # Render\n",
    "        f = open('index.html', 'rb')\n",
    "        self.wfile.write(f.read())\n",
    "        f.close()\n",
    "    \n",
    "    def do_POST(self):\n",
    "        # Input\n",
    "        form = FieldStorage(fp=self.rfile, \n",
    "                            headers=self.headers,\n",
    "                            environ={\n",
    "                                'REQUEST_METHOD':'POST',\n",
    "                                'CONTENT_TYPE':self.headers['Content-Type']\n",
    "                            })\n",
    "        \n",
    "        # Header\n",
    "        self.send_response(200)\n",
    "        self.end_headers()\n",
    "\n",
    "        # Process\n",
    "        result = int(form['A'].value) + int(form['B'].value)\n",
    "        \n",
    "        # Render\n",
    "        response = ('Result = ' + str(result)).encode('utf8')\n",
    "        self.wfile.write(response)"
   ]
  },
  {
   "cell_type": "code",
   "execution_count": null,
   "metadata": {},
   "outputs": [],
   "source": [
    "try:\n",
    "    httpd = HTTPServer((IP_ADDRESS, PORT), SimpleHTTPRequestHandler)\n",
    "    print('Server is started on %s port %d' % (IP_ADDRESS, PORT))\n",
    "    httpd.serve_forever()\n",
    "except KeyboardInterrupt:\n",
    "    print('Server is closed.')\n",
    "    httpd.shutdown()"
   ]
  },
  {
   "cell_type": "code",
   "execution_count": null,
   "metadata": {},
   "outputs": [],
   "source": []
  }
 ],
 "metadata": {
  "kernelspec": {
   "display_name": "Python 3",
   "language": "python",
   "name": "python3"
  },
  "language_info": {
   "codemirror_mode": {
    "name": "ipython",
    "version": 3
   },
   "file_extension": ".py",
   "mimetype": "text/x-python",
   "name": "python",
   "nbconvert_exporter": "python",
   "pygments_lexer": "ipython3",
   "version": "3.7.5"
  }
 },
 "nbformat": 4,
 "nbformat_minor": 2
}
